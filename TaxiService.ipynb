{
 "cells": [
  {
   "cell_type": "markdown",
   "metadata": {},
   "source": [
    "# Taxi Interactive Dashboard\n",
    "\n",
    "Samuel Moijueh\n",
    "\n",
    "2019-05-10\n",
    "\n",
    "<img src=\"images/taxi.jpg\" style=\"width: 500px\">\n"
   ]
  },
  {
   "cell_type": "markdown",
   "metadata": {},
   "source": [
    "# Introduction\n",
    "<br>\n",
    "\n",
    "In this Exploratory Data Analysis, I create an Interactive Taxi Service Map of Chicago and provide insights using Data Science.\n",
    "\n",
    "The analysis will be based on the questions outlined below. I've divided the problem into four categories. \n",
    "\n",
    "<br>\n",
    "\n",
    "## Step 1: Define the Problem\n",
    "\n",
    "<ol>\n",
    "    <li><b>Visualization</b>\n",
    "     <ul>\n",
    "         <li>Create an interactive dashboard of the taxi service trips. Any observations? <!--based on the geospatial coordinates of the pickup and dropoff points!--></li>\n",
    "        </ul>\n",
    "    </li>\n",
    "    <br>\n",
    "    <li><b>Exploratory Data Analysis</b>\n",
    "    <ul>\n",
    "        <li>Look for patterns in travel and commute times by distance and time of day.</li>\n",
    "    <li>When are the peak hours of service? </li>\n",
    "    <li>Where are the most popular dropoff locations on weekdays vs weekend?</li>\n",
    "      </ul>\n",
    "    <br>\n",
    " <li><b>Civic Tech</b>\n",
    "   <ul> \n",
    "    <li>Is there a connection between areas having a metro line (loop system) and taxi pickup areas? This information would provide insight on how efficient public transportation is for people's commute.</li>\n",
    "    <li>Are there areas or communities in the city being underserved according to supply and demand metrics?</li>\n",
    "    \n",
    "   </ul>\n",
    "    <br>\n",
    "  <li><b>Business Analytics & Business Intellegence</b>\n",
    "    <ul>\n",
    "        <li>What is the total revenue and market share value of the the top performing taxi companies?</li>\n",
    "        <li>Can we identify any actionable insights to improve revenue?</li>\n",
    "        <li>How is business affected by holidays and sporting events? Is there higher demand?</li>\n",
    "</ol> \n",
    "  \n",
    " <br>\n",
    "\n",
    "I will use <b>Python</b> as the programming language."
   ]
  },
  {
   "cell_type": "code",
   "execution_count": 195,
   "metadata": {},
   "outputs": [],
   "source": [
    "#!/usr/bin/env python\n",
    "\n",
    "\"\"\" Basic Utils \"\"\"\n",
    "import warnings\n",
    "from sodapy import Socrata\n",
    "import json\n",
    "\n",
    "\"\"\" Data Analysis and Visualization \"\"\"\n",
    "import pandas as pd\n",
    "import datetime\n",
    "import folium\n",
    "from folium.plugins import MarkerCluster\n",
    "from folium.plugins import MiniMap\n",
    "from folium.plugins import Search\n",
    "\n",
    "\"\"\" Socrata API key \"\"\"\n",
    "client = Socrata(\"data.cityofchicago.org\",\n",
    "                 \"3GOqgqfzC6WKkttr7L28Ls8V5\",\n",
    "                 username=\"ssm87@bu.edu\",\n",
    "                 password=\"French3490#\")"
   ]
  },
  {
   "cell_type": "markdown",
   "metadata": {},
   "source": [
    "## Step 2: Gather the data\n",
    "<br>\n",
    "\n",
    "The Chicago Taxi Trips data is available to download at <a href=\"https://catalog.data.gov/dataset/taxi-trips\" target=\"_blank\">data.gov</a> courtesy of the City of Chicago. A widget view of the data is also <a href=\"https://data.cityofchicago.org/widgets/wrvz-psew\" target=\"_blank\">available</a>.\n",
    "\n",
    "<br>\n",
    "\n",
    "The data available was collected from 2013 to 2017, during which there where are over 112 million taxi trips. \n",
    "\n",
    "<br>\n",
    "\n",
    "For brevity, the scope of the data will be limited to trips between October 17th, 2016 to November 30, 2016. <b>Approximately 6 weeks worth of data.</b> This is an interesting period of time. You have Halloween 2016, the 2016 World Series (Chicago's first World Series appearence in 71 years), the pre-holiday shopping event that is Black Friday, and Thanksgiving.\n",
    "\n",
    "<br>\n",
    "\n",
    "I will use the Socrata Open Data API (<a href=\"https://dev.socrata.com/foundry/data.cityofchicago.org/wrvz-psew\" target=\"_blank\">SODA</a>) to query the Chicago Taxi Trip data. SODA allows you to programmatically access a wealth of open data resources from governments, non-profits, and NGOs around the world. Further down the page is a data dictionary which explains each variable.\n",
    "\n",
    "<br>\n",
    "\n",
    "### SQL Queries using SODA\n",
    "\n",
    "<br> \n",
    "\n",
    "I will query for the taxi rides of interest using <a href=\"https://dev.socrata.com/docs/queries/\" blank=\"_blank\">SoQL</a>, a variant of SQL.\n",
    "\n",
    "The command below queries all taxi rides between Oct. 17, 2016 to November 2016. I also specify that the rows must have geospatial coordinates and the company names."
   ]
  },
  {
   "cell_type": "code",
   "execution_count": 3,
   "metadata": {},
   "outputs": [],
   "source": [
    "try:\n",
    "    with open('taxi_data.json') as json_file:\n",
    "        taxi_data = json.load(json_file)\n",
    "except FileNotFoundError:\n",
    "    # query for all taxi rides, returned as JSON from API / converted to Python list of dictionaries by sodapy\n",
    "    taxi_data = client.get(\"wrvz-psew\", where=\"trip_start_timestamp >='2016-10-17T20:00:00.000' \\\n",
    "                     AND trip_end_timestamp <= '2016-11-30T20:00:00.000' \\\n",
    "                     AND trip_miles > 0 \\\n",
    "                     AND company IS NOT NULL \\\n",
    "                     AND dropoff_census_tract IS NOT NULL \\\n",
    "                     AND pickup_census_tract IS NOT NULL \\\n",
    "                     AND dropoff_centroid_location IS NOT NULL \\\n",
    "                     AND pickup_centroid_location IS NOT NULL\", limit=1000000)\n",
    "    \n",
    "    # write the json object to file\n",
    "    with open('taxi_data.json', 'w') as outfile:  \n",
    "        json.dump(taxi_data, outfile)"
   ]
  },
  {
   "cell_type": "markdown",
   "metadata": {},
   "source": [
    "### Pandas and Data Wrangling\n",
    "\n",
    "I'll use pandas to load the data into Python, and convert the time strings into DataTime objects. From here I can wrangle data fields required for the analysis."
   ]
  },
  {
   "cell_type": "code",
   "execution_count": 200,
   "metadata": {},
   "outputs": [],
   "source": [
    "# Convert to pandas DataFrame.\n",
    "taxi_df = pd.DataFrame.from_records(taxi_data)\n",
    "\n",
    "# wrangle data required for analysis\n",
    "taxi_df[\"trip_start_timestamp\"] = pd.to_datetime(taxi_df[\"trip_start_timestamp\"])\n",
    "taxi_df[\"trip_end_timestamp\"] = pd.to_datetime(taxi_df[\"trip_end_timestamp\"])\n",
    "taxi_df[\"hour\"] = taxi_df[\"trip_start_timestamp\"].map(lambda x: x.hour)\n",
    "taxi_df[\"day\"] = taxi_df[\"trip_start_timestamp\"].map(lambda x: x.weekday())"
   ]
  },
  {
   "cell_type": "markdown",
   "metadata": {},
   "source": [
    "That last couple lines add a column to the table indicating the hour of day and the day of the week. I will use that information later to determine the peak hours of service and most popular dropoff locations on weekends vs weekends, respectively.\n",
    "\n",
    "<br>\n",
    "\n",
    "### Dropoff Location Hotspots\n",
    "\n",
    "In the snippet below, I add a column indicating whether the dropoff location is within a 100 foot radius of the following hotspot locations.\n",
    "\n",
    "**Travel**: O'Hare International Airport, Midway International Airport\n",
    "\n",
    "**Commute**: Union Station, Ogilvie Transportation Center, The Loop Metro\n",
    "\n",
    "**Tourist Attractions**: Millennium Park, Navy Pier, Magnificent Mile, The Chicago Theatre, \n",
    "\n",
    "**Sporting Arena**: United Center, Soldier Field, Wrigley Field (Chicago Cubs), Guaranteed Rate Field (White Sox)\n",
    "\n",
    "\n",
    "<br>\n"
   ]
  },
  {
   "cell_type": "code",
   "execution_count": 204,
   "metadata": {},
   "outputs": [],
   "source": [
    "hotspots = {\n",
    "    'ORD' : (41.9742, -87.9073),\n",
    "    'MDW' : (41.7868, -87.7522),\n",
    "    'UNION' : (41.8787, -87.6403),\n",
    "    'OGV' : (41.8830, -87.6405),\n",
    "    'LOOP': (41.8806, -87.6302),\n",
    "    'MLP' : (41.8826, -87.6226),\n",
    "    'CTR' : (41.8853, -87.6276),\n",
    "    'UTD' : (41.8807, -87.6742),\n",
    "    'SDF' : (41.8623, -87.6167),\n",
    "    'WGF' : (41.9484, -87.6553),\n",
    "    'GRF' : (41.8299, -87.6338)\n",
    "}\n",
    "\n",
    "# function that determines if a taxi dropoff location (x,y) is within a 100 foot radius of hotspot (1000 ft radius for the LOOP)\n",
    "def is_inside(x, y, hotspot_x, hotspot_y, hotspot):\n",
    "    if hotspot == 'LOOP':\n",
    "        radius = 1000\n",
    "    else:\n",
    "        radius = 100\n",
    "        \n",
    "    if ( (x - hotspot_x)^2 + (y - hotspot_y)^2 < radius^2 ):\n",
    "        return(hotspot)\n",
    "    return('No')"
   ]
  },
  {
   "cell_type": "markdown",
   "metadata": {},
   "source": [
    "To take at a peak of the results. run this:"
   ]
  },
  {
   "cell_type": "code",
   "execution_count": 206,
   "metadata": {},
   "outputs": [
    {
     "data": {
      "text/plain": [
       "(532609, 25)"
      ]
     },
     "execution_count": 206,
     "metadata": {},
     "output_type": "execute_result"
    }
   ],
   "source": [
    "taxi_df.shape\n",
    "\n",
    "#taxi_df.head()"
   ]
  },
  {
   "cell_type": "markdown",
   "metadata": {},
   "source": [
    "## Pandas\n",
    "\n",
    "The pandas dataframe shows that there are ~755,000 taxi ride services between Oct. 17, 2016 - November 2016."
   ]
  },
  {
   "cell_type": "code",
   "execution_count": 164,
   "metadata": {
    "scrolled": true
   },
   "outputs": [
    {
     "data": {
      "text/plain": [
       "['company',\n",
       " 'dropoff_census_tract',\n",
       " 'dropoff_centroid_latitude',\n",
       " 'dropoff_centroid_location',\n",
       " 'dropoff_centroid_longitude',\n",
       " 'dropoff_community_area',\n",
       " 'extras',\n",
       " 'fare',\n",
       " 'payment_type',\n",
       " 'pickup_census_tract',\n",
       " 'pickup_centroid_latitude',\n",
       " 'pickup_centroid_location',\n",
       " 'pickup_centroid_longitude',\n",
       " 'pickup_community_area',\n",
       " 'taxi_id',\n",
       " 'tips',\n",
       " 'tolls',\n",
       " 'trip_end_timestamp',\n",
       " 'trip_id',\n",
       " 'trip_miles',\n",
       " 'trip_seconds',\n",
       " 'trip_start_timestamp',\n",
       " 'trip_total']"
      ]
     },
     "execution_count": 164,
     "metadata": {},
     "output_type": "execute_result"
    }
   ],
   "source": [
    "# 532609 records\n",
    "list(results_df)"
   ]
  },
  {
   "cell_type": "markdown",
   "metadata": {},
   "source": [
    "## Step 3: Interactive Map\n",
    "\n",
    "Now that the data is ready, I will use Folium to create an interactive map of the Chicago Taxi Ride Services."
   ]
  },
  {
   "cell_type": "code",
   "execution_count": 191,
   "metadata": {},
   "outputs": [],
   "source": [
    "CHICAGO_COORDINATES = (41.8781, -87.6298)\n",
    "\n",
    "# for speed purposes\n",
    "MAX_RECORDS = 100\n",
    "\n",
    "# create empty map zoomed in on Chicago\n",
    "folium_map = folium.Map(location=CHICAGO_COORDINATES, zoom_start=11, control_scale=True)\n",
    "\n",
    "marker_cluster = MarkerCluster(name=\"Dropoff\").add_to(folium_map)\n",
    "marker_cluster = MarkerCluster(name=\"Pick Up\").add_to(folium_map)\n",
    "#circle_marker = CircleMarkers(name=\"Dropoff\").add_to(folium_map)\n",
    "\n",
    "minimap = MiniMap(toggle_display=True).add_to(folium_map)\n",
    "#minimap.add_to(folium_map)\n",
    "##plugins.Search(coordinates, search_zoom=6).add_to(folium_map)"
   ]
  },
  {
   "cell_type": "code",
   "execution_count": 185,
   "metadata": {},
   "outputs": [],
   "source": [
    "# add map tiles\n",
    "#tile = folium.TileLayer(tiles='OpenStreetMap', name=\"Color Map\").add_to(folium_map)\n",
    "tile = folium.TileLayer(tiles='Stamen Terrain', name=\"Terrain Map\").add_to(folium_map)\n",
    "tile = folium.TileLayer(tiles='cartodbpositron', name=\"Light Map\").add_to(folium_map)\n",
    "\n",
    "# TO-DO: push onto github using command line\n",
    "# TO-DO: add pickup icon to pickup marker, add dropoff icon to dropoff marker. change color of pickup (red) vs dropoff marker (blue). blue taxi, red taxi\n",
    "# TO-DO: look up MarkerCluster object. create FeatureGroup layers for pickup and dropoff"
   ]
  },
  {
   "cell_type": "markdown",
   "metadata": {},
   "source": [
    "### Plotting Markers for each Taxi Ride\n",
    "\n",
    "In the code below, I iterate over all the rows of the Taxi Rides DataFrame and add a marker for each row."
   ]
  },
  {
   "cell_type": "code",
   "execution_count": 186,
   "metadata": {},
   "outputs": [
    {
     "data": {
      "text/plain": [
       "<folium.map.LayerControl at 0x7ff1c1d98828>"
      ]
     },
     "execution_count": 186,
     "metadata": {},
     "output_type": "execute_result"
    }
   ],
   "source": [
    "#adding marker and popup of city and crime-name\n",
    "for i in range(0,MAX_RECORDS):\n",
    "    lat_do = float(taxi_df['dropoff_centroid_latitude'][i])\n",
    "    lon_do = float(taxi_df['dropoff_centroid_longitude'][i])\n",
    "    lat_pu = float(taxi_df['pickup_centroid_latitude'][i])\n",
    "    lon_pu = float(taxi_df['pickup_centroid_longitude'][i])\n",
    "    duration = taxi_df['trip_seconds'][i]\n",
    "    miles = taxi_df['trip_miles'][i]\n",
    "    fare = taxi_df['fare'][i]\n",
    "    \n",
    "    folium.map.Marker(location=[lat_do,lon_do],\n",
    "                      popup=folium.Popup(\"Trip Duration=\"+duration+\" seconds\\nTrip Distance=\"+miles\n",
    "                      +\" miles\\nFare=$\"+fare, max_width=450)).add_to(marker_cluster)\n",
    "    \n",
    "    folium.map.Marker(location=[lat_pu,lon_pu]).add_to(marker_cluster)\n",
    "    \n",
    "    folium.CircleMarker(location=[lat_do,lon_do],\n",
    "                        radius= 4,\n",
    "                        color='steelblue', fill_opacity = 0.7).add_to(folium_map)\n",
    "    \n",
    "    folium.CircleMarker(location=[lat_pu,lon_pu],\n",
    "                        radius= 4,\n",
    "                        color='firebrick', fill_opacity = 0.001).add_to(folium_map)\n",
    "    \n",
    "#     popup=folium.Popup(max_width=450).folium.Vega(json.load(open('vis1.json')), width=450, height=250).add_to(buoy_map)\n",
    "    \n",
    "#     folium.vector_layers.CircleMarker([float(results_df['dropoff_centroid_longitude'][i]),\n",
    "#                    float(results_df['dropoff_centroid_latitude'][i])], radius = 1, color = \"steelblue\", fillOpacity = 0.001, name = 'DropOff')\n",
    "    \n",
    "# LayerConrol\n",
    "folium.LayerControl(collapsed=False).add_to(folium_map)"
   ]
  },
  {
   "cell_type": "code",
   "execution_count": 202,
   "metadata": {
    "scrolled": false
   },
   "outputs": [
    {
     "data": {
      "text/html": [
       "<div style=\"width:100%;\"><div style=\"position:relative;width:100%;height:0;padding-bottom:60%;\"><iframe src=\"data:text/html;charset=utf-8;base64,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\" style=\"position:absolute;width:100%;height:100%;left:0;top:0;border:none !important;\" allowfullscreen webkitallowfullscreen mozallowfullscreen></iframe></div></div>"
      ],
      "text/plain": [
       "<folium.folium.Map at 0x7ff1c1ae7c50>"
      ]
     },
     "execution_count": 202,
     "metadata": {},
     "output_type": "execute_result"
    }
   ],
   "source": [
    "folium_map"
   ]
  },
  {
   "cell_type": "code",
   "execution_count": null,
   "metadata": {},
   "outputs": [],
   "source": []
  }
 ],
 "metadata": {
  "kernelspec": {
   "display_name": "Python 3",
   "language": "python",
   "name": "python3"
  },
  "language_info": {
   "codemirror_mode": {
    "name": "ipython",
    "version": 3
   },
   "file_extension": ".py",
   "mimetype": "text/x-python",
   "name": "python",
   "nbconvert_exporter": "python",
   "pygments_lexer": "ipython3",
   "version": "3.7.0"
  },
  "varInspector": {
   "cols": {
    "lenName": 16,
    "lenType": 16,
    "lenVar": 40
   },
   "kernels_config": {
    "python": {
     "delete_cmd_postfix": "",
     "delete_cmd_prefix": "del ",
     "library": "var_list.py",
     "varRefreshCmd": "print(var_dic_list())"
    },
    "r": {
     "delete_cmd_postfix": ") ",
     "delete_cmd_prefix": "rm(",
     "library": "var_list.r",
     "varRefreshCmd": "cat(var_dic_list()) "
    }
   },
   "types_to_exclude": [
    "module",
    "function",
    "builtin_function_or_method",
    "instance",
    "_Feature"
   ],
   "window_display": false
  }
 },
 "nbformat": 4,
 "nbformat_minor": 2
}
